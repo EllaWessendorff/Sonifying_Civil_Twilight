{
 "cells": [
  {
   "cell_type": "code",
   "execution_count": 12,
   "id": "dd6ea6e7",
   "metadata": {},
   "outputs": [],
   "source": [
    "import mido\n",
    "from miditime import MIDITime\n",
    "import pandas as pd\n",
    "import random\n",
    "from mido import MidiFile, MidiTrack, Message"
   ]
  },
  {
   "cell_type": "code",
   "execution_count": 2,
   "id": "0df00620",
   "metadata": {},
   "outputs": [],
   "source": [
    "data = pd.read_csv('sky_distribution.csv')\n",
    "data.columns = data.columns.str.strip()\n"
   ]
  },
  {
   "cell_type": "code",
   "execution_count": 8,
   "id": "82093c49",
   "metadata": {},
   "outputs": [],
   "source": [
    "mymidi = MIDITime(120, 'dawn_chorus.mid', 5, 5, 1)"
   ]
  },
  {
   "cell_type": "code",
   "execution_count": 9,
   "id": "c74478e8",
   "metadata": {},
   "outputs": [],
   "source": [
    "data['beat'] = data['azimuth[deg]'] / max(data['azimuth[deg]']) * 100"
   ]
  },
  {
   "cell_type": "code",
   "execution_count": 10,
   "id": "8799e63f",
   "metadata": {},
   "outputs": [],
   "source": [
    "def scale_radiance_to_pitch(radiance):\n",
    "    min_r, max_r = data['radiance[W/m2]'].min(), data['radiance[W/m2]'].max()\n",
    "    pct = (radiance - min_r) / (max_r - min_r)\n",
    "    pitch = 60 + int(pct * 12) + random.choice([-1, 0, 1])  # slight randomness\n",
    "    return min(max(pitch, 48), 84)\n",
    "\n",
    "def scale_radiance_to_velocity(radiance):\n",
    "    min_r, max_r = data['radiance[W/m2]'].min(), data['radiance[W/m2]'].max()\n",
    "    pct = (radiance - min_r) / (max_r - min_r)\n",
    "    velocity = int(50 + pct * 77)\n",
    "    return min(max(velocity, 30), 127)\n",
    "\n",
    "def scale_radiance_to_modwheel(radiance):\n",
    "    min_r, max_r = data['radiance[W/m2]'].min(), data['radiance[W/m2]'].max()\n",
    "    pct = (radiance - min_r) / (max_r - min_r)\n",
    "    return int(pct * 127)  # MIDI CC range\n"
   ]
  },
  {
   "cell_type": "code",
   "execution_count": null,
   "id": "43789e7b",
   "metadata": {},
   "outputs": [],
   "source": [
    "mid = MidiFile()\n",
    "track = MidiTrack()\n",
    "mid.tracks.append(track)\n",
    "\n",
    "for index, row in data.iterrows():\n",
    "    time = int(row['beat'] * 480 / 120)  # convert beats to ticks assuming 480 ticks/beat\n",
    "\n",
    "    pitch = scale_radiance_to_pitch(row['radiance[W/m2]'])\n",
    "    velocity = scale_radiance_to_velocity(row['radiance[W/m2]'])\n",
    "    mod_val = scale_radiance_to_modwheel(row['radiance[W/m2]'])\n",
    "\n",
    "    # Control change - mod wheel (CC 1)\n",
    "    track.append(Message('control_change', control=1, value=mod_val, time=0))\n",
    "\n",
    "    # Optional pitch bend for birdy warble\n",
    "    if random.random() > 0.8:\n",
    "        track.append(Message('pitchwheel', pitch=random.randint(-2000, 2000), time=0))\n",
    "\n",
    "    # Note on\n",
    "    track.append(Message('note_on', note=pitch, velocity=velocity, time=0))\n",
    "\n",
    "    # Note off after a short random delay (add variation)\n",
    "    duration_ticks = int(random.uniform(60, 180))  # 1/8 to 3/8 note approx.\n",
    "    track.append(Message('note_off', note=pitch, velocity=velocity, time=duration_ticks))"
   ]
  },
  {
   "cell_type": "code",
   "execution_count": 14,
   "id": "1545b5bf",
   "metadata": {},
   "outputs": [],
   "source": [
    "mid.save('dawn_chorus_modulated.mid')"
   ]
  }
 ],
 "metadata": {
  "kernelspec": {
   "display_name": "dipcc",
   "language": "python",
   "name": "python3"
  },
  "language_info": {
   "codemirror_mode": {
    "name": "ipython",
    "version": 3
   },
   "file_extension": ".py",
   "mimetype": "text/x-python",
   "name": "python",
   "nbconvert_exporter": "python",
   "pygments_lexer": "ipython3",
   "version": "3.13.2"
  }
 },
 "nbformat": 4,
 "nbformat_minor": 5
}
